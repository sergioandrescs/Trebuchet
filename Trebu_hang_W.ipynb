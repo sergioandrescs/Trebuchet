{
 "metadata": {
  "name": "",
  "signature": "sha256:03d9b35418296e9e672e4d541fe538da5cc97e9845834f1ca30ae1669cb452b5"
 },
 "nbformat": 3,
 "nbformat_minor": 0,
 "worksheets": [
  {
   "cells": [
    {
     "cell_type": "code",
     "collapsed": false,
     "input": [
      "%pylab inline\n",
      "import numpy as np\n",
      "from __future__ import division\n",
      "#Soluci\u00f3n para Tebuchet con contrapeso colgante\n",
      "#Se considera el contrapeso sin inercia\n",
      "#Para solucion num\u00e9rica, se usar\u00e1 Runge-Kutta\n",
      "#La ecuaciones a solucionar se obtuvieron a partir del estudio del lagrangiano del sistema\n",
      "\n",
      "#Constantes\n",
      "g=9.81\n",
      "dt=0.001\n",
      "\n",
      "#Masas\n",
      "M=20\n",
      "m=0.1\n",
      "mb=0.1\n",
      "\n",
      "#Brazos\n",
      "L=0.35\n",
      "l=0.05\n",
      "lw=0.02\n",
      "\n",
      "#\u00c1ngulo de salida\n",
      "ths=45*pi/180\n",
      "\n",
      "#Condiciones Iniciales\n",
      "#\u00c1ngulos\n",
      "th=60*pi/180\n",
      "psi=0\n",
      "\n",
      "#Derivadas\n",
      "dth=0\n",
      "dpsi=0"
     ],
     "language": "python",
     "metadata": {},
     "outputs": [
      {
       "output_type": "stream",
       "stream": "stdout",
       "text": [
        "Populating the interactive namespace from numpy and matplotlib\n"
       ]
      }
     ],
     "prompt_number": 89
    },
    {
     "cell_type": "code",
     "collapsed": false,
     "input": [
      "M11=(M*(L**2)+m*(l**2)+(mb/3)*((L**2)-L*l+(l**2)))\n",
      "M22=M*lw**2"
     ],
     "language": "python",
     "metadata": {},
     "outputs": [],
     "prompt_number": 90
    },
    {
     "cell_type": "code",
     "collapsed": false,
     "input": [
      "def acc(a11,a12,a21,a22,r1,r2):\n",
      "    Mv=np.matrix([[a11,a12],[a21,a22]])\n",
      "    Mr=np.array([[r1],[r2]])\n",
      "    Mvinv=np.linalg.inv(Mv)\n",
      "    return Mvinv*Mr\n"
     ],
     "language": "python",
     "metadata": {},
     "outputs": [],
     "prompt_number": 91
    },
    {
     "cell_type": "code",
     "collapsed": false,
     "input": [
      "#Esta Runge-Kutta tiene en cuenta los cambios en velocidad de th y psi simultaneamente\n",
      "def rk(dtho,tho,dpsio,psio):\n",
      "    #C\u00e1lculo de acc\n",
      "    M12=(M*l*lw*sin(psio-tho))\n",
      "    M21=(M*l*lw*sin(psio-tho))   \n",
      "\n",
      "    R1=-(dpsio**2)*(M*l*lw*cos(psio-tho))+g*cos(tho)*(m*L+(mb/2)*(L-l)-M*l)\n",
      "    R2=-M*g*lw*sin(psio)+(dtho**2)*M*l*lw*cos(psio-tho)\n",
      "    \n",
      "    \n",
      "    Na=acc(M11,M12,M21,M22,R1,R2)    \n",
      "    \n",
      "    #Primer cambio en velocidad\n",
      "    k1th=dt*Na[0,0]\n",
      "    k1psi=dt*Na[1,0]\n",
      "    \n",
      "    R1=-((dpsio+0.5*k1psi)**2)*(M*l*lw*cos(psio-tho))+g*cos(tho)*(m*L+(mb/2)*(L-l)-M*l)\n",
      "    R2=-M*g*lw*sin(psio)+((dtho+0.5*k1th)**2)*M*l*lw*cos(psio-tho)\n",
      "    \n",
      "    Na=acc(M11,M12,M21,M22,R1,R2)\n",
      "    \n",
      "    #Segundo cambio de velocidad\n",
      "    k2th=dt*Na[0,0]\n",
      "    k2psi=dt*Na[1,0]\n",
      "    \n",
      "    R1=-((dpsio+0.5*k2psi)**2)*(M*l*lw*cos(psio-tho))+g*cos(tho)*(m*L+(mb/2)*(L-l)-M*l)\n",
      "    R2=-M*g*lw*sin(psio)+((dtho+0.5*k2th)**2)*M*l*lw*cos(psio-tho)\n",
      "    \n",
      "    Na=acc(M11,M12,M21,M22,R1,R2)\n",
      "   \n",
      "    #Tercer cambio de velocidad\n",
      "    k3th=dt*Na[0,0]\n",
      "    k3psi=dt*Na[1,0]\n",
      "    \n",
      "    R1=-((dpsio+k3psi)**2)*(M*l*lw*cos(psio-tho))+g*cos(tho)*(m*L+(mb/2)*(L-l)-M*l)\n",
      "    R2=-M*g*lw*sin(psio)+((dtho+k3th)**2)*M*l*lw*cos(psio-tho)\n",
      "    \n",
      "    Na=acc(M11,M12,M21,M22,R1,R2)\n",
      "    \n",
      "    k4th=dt*Na[0,0]\n",
      "    k4psi=dt*Na[1,0]\n",
      "    \n",
      "    #Cambio\n",
      "    dpsio=dpsio+(k1psi+2*k2psi+2*k3psi+k4psi)/6\n",
      "    dtho=dtho+(k1th+2*k2th+2*k3th+k4th)/6\n",
      "    \n",
      "    \n",
      "    return dtho,dpsio\n"
     ],
     "language": "python",
     "metadata": {},
     "outputs": [],
     "prompt_number": 92
    },
    {
     "cell_type": "code",
     "collapsed": false,
     "input": [
      "#Condiciones Iniciales\n",
      "#\u00c1ngulos\n",
      "th=60*pi/180\n",
      "psi=0\n",
      "\n",
      "#Derivadas\n",
      "dth=0\n",
      "dpsi=0\n",
      "\n",
      "while th>-ths:\n",
      "    New=rk(dth,th,dpsi,psi)\n",
      "    dth=New[0]\n",
      "    dpsi=New[1]\n",
      "    \n",
      "    th=th+dth*dt\n",
      "    psi=psi+dpsi*dt\n",
      "    \n",
      "print dth,th*180/pi,dpsi, psi*180/pi\n"
     ],
     "language": "python",
     "metadata": {},
     "outputs": [
      {
       "output_type": "stream",
       "stream": "stdout",
       "text": [
        "-3.45482034572 -45.1342836277 -0.281291061822 3.12304739969\n"
       ]
      }
     ],
     "prompt_number": 96
    },
    {
     "cell_type": "code",
     "collapsed": false,
     "input": [
      "def rkth(dtho,tho,dpsio,psio):\n",
      "    #C\u00e1lculo de acc\n",
      "    M12=(M*l*lw*sin(psio-tho))\n",
      "    M21=(M*l*lw*sin(psio-tho))   \n",
      "\n",
      "    R1=-(dpsio**2)*(M*l*lw*cos(psio-tho))+g*cos(tho)*(m*L+(mb/2)*(L-l)-M*l)\n",
      "    R2=-M*g*lw*sin(psio)+(dtho**2)*M*l*lw*cos(psio-tho)    \n",
      "    \n",
      "    Na=acc(M11,M12,M21,M22,R1,R2)    \n",
      "    \n",
      "    #Primer cambio en velocidad\n",
      "    k1th=dt*Na[0,0]   \n",
      "    R2=-M*g*lw*sin(psio)+((dtho+0.5*k1th)**2)*M*l*lw*cos(psio-tho)    \n",
      "    Na=acc(M11,M12,M21,M22,R1,R2)\n",
      "    \n",
      "    #Segundo cambio de velocidad\n",
      "    k2th=dt*Na[0,0]    \n",
      "    R2=-M*g*lw*sin(psio)+((dtho+0.5*k2th)**2)*M*l*lw*cos(psio-tho)    \n",
      "    Na=acc(M11,M12,M21,M22,R1,R2)\n",
      "   \n",
      "    #Tercer cambio de velocidad\n",
      "    k3th=dt*Na[0,0]    \n",
      "    R2=-M*g*lw*sin(psio)+((dtho+k3th)**2)*M*l*lw*cos(psio-tho)    \n",
      "    Na=acc(M11,M12,M21,M22,R1,R2)    \n",
      "    k4th=dt*Na[0,0]\n",
      "    \n",
      "    #Cambio\n",
      "    dtho=dtho+(k1th+2*k2th+2*k3th+k4th)*(1/6)\n",
      "    \n",
      "    return dtho"
     ],
     "language": "python",
     "metadata": {},
     "outputs": [],
     "prompt_number": 93
    },
    {
     "cell_type": "code",
     "collapsed": false,
     "input": [
      "#Esta Runge-Kutta tiene en cuenta los cambios en velocidad de th y psi simultaneamente\n",
      "def rkpsi(dtho,tho,dpsio,psio):\n",
      "    #C\u00e1lculo de acc\n",
      "    M12=(M*l*lw*sin(psio-tho))\n",
      "    M21=(M*l*lw*sin(psio-tho))   \n",
      "\n",
      "    R1=-(dpsio**2)*(M*l*lw*cos(psio-tho))+g*cos(tho)*(m*L+(mb/2)*(L-l)-M*l)\n",
      "    R2=-M*g*lw*sin(psio)+(dtho**2)*M*l*lw*cos(psio-tho)\n",
      "    Na=acc(M11,M12,M21,M22,R1,R2)    \n",
      "    \n",
      "    #Primer cambio en velocidad\n",
      "    k1psi=dt*Na[1,0]    \n",
      "    R1=-((dpsio+0.5*k1psi)**2)*(M*l*lw*cos(psio-tho))+g*cos(tho)*(m*L+(mb/2)*(L-l)-M*l)    \n",
      "    Na=acc(M11,M12,M21,M22,R1,R2)\n",
      "    \n",
      "    #Segundo cambio de velocidad\n",
      "    k2psi=dt*Na[1,0]    \n",
      "    R1=-((dpsio+0.5*k2psi)**2)*(M*l*lw*cos(psio-tho))+g*cos(tho)*(m*L+(mb/2)*(L-l)-M*l)    \n",
      "    Na=acc(M11,M12,M21,M22,R1,R2)\n",
      "   \n",
      "    #Tercer cambio de velocidad\n",
      "    k3psi=dt*Na[1,0]\n",
      "    R1=-((dpsio+k3psi)**2)*(M*l*lw*cos(psio-tho))+g*cos(tho)*(m*L+(mb/2)*(L-l)-M*l)  \n",
      "    Na=acc(M11,M12,M21,M22,R1,R2)\n",
      "    k4psi=dt*Na[1,0]\n",
      "    \n",
      "    #Cambio\n",
      "    dpsio=dpsio+(k1psi+2*k2psi+2*k3psi+k4psi)/6\n",
      "    \n",
      "    return dpsio"
     ],
     "language": "python",
     "metadata": {},
     "outputs": [],
     "prompt_number": 94
    },
    {
     "cell_type": "code",
     "collapsed": false,
     "input": [
      "#Condiciones Iniciales\n",
      "#\u00c1ngulos\n",
      "th=60*pi/180\n",
      "psi=0\n",
      "\n",
      "#Derivadas\n",
      "dth=0\n",
      "dpsi=0\n",
      "\n",
      "while th>-ths:\n",
      "    New1=rkth(dth,th,dpsi,psi)\n",
      "    New3=rkpsi(dth,th,dpsi,psi)\n",
      "    dth=New1\n",
      "    dpsi=New3\n",
      "    \n",
      "    th=th+dth*dt\n",
      "    psi=psi+dpsi*dt\n",
      "    \n",
      "print dth,th*180/pi,dpsi, psi*180/pi\n",
      "    \n"
     ],
     "language": "python",
     "metadata": {},
     "outputs": [
      {
       "output_type": "stream",
       "stream": "stdout",
       "text": [
        "-3.45481988139 -45.1336197483 -0.281039913663 3.12130856939\n"
       ]
      }
     ],
     "prompt_number": 97
    },
    {
     "cell_type": "code",
     "collapsed": false,
     "input": [],
     "language": "python",
     "metadata": {},
     "outputs": []
    }
   ],
   "metadata": {}
  }
 ]
}