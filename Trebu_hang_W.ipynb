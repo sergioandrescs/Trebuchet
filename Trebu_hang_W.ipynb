{
 "metadata": {
  "name": "",
  "signature": "sha256:38878aab7cb0ff02459c9c2b7f74323f713f6354723dffd182021e0e965bd870"
 },
 "nbformat": 3,
 "nbformat_minor": 0,
 "worksheets": [
  {
   "cells": [
    {
     "cell_type": "code",
     "collapsed": false,
     "input": [
      "%pylab inline\n",
      "import numpy as np\n",
      "from __future__ import division\n",
      "#Soluci\u00f3n para Tebuchet con contrapeso colgante\n",
      "#Se considera el contrapeso sin inercia\n",
      "#Para solucion num\u00e9rica, se usar\u00e1 Runge-Kutta\n",
      "#La ecuaciones a solucionar se obtuvieron a partir del estudio del lagrangiano del sistema\n",
      "\n",
      "#Constantes\n",
      "g=9.81\n",
      "dt=0.001\n",
      "\n",
      "#Masas\n",
      "M=3\n",
      "m=0.1\n",
      "mb=0.1\n",
      "\n",
      "#Brazos\n",
      "L=0.23\n",
      "l=0.07\n",
      "lw=0.01\n"
     ],
     "language": "python",
     "metadata": {},
     "outputs": [
      {
       "output_type": "stream",
       "stream": "stdout",
       "text": [
        "Populating the interactive namespace from numpy and matplotlib\n"
       ]
      }
     ],
     "prompt_number": 155
    },
    {
     "cell_type": "code",
     "collapsed": false,
     "input": [
      "#C\u00e1lculo de constantes a usar a partir de ecuaciones de movimiento\n",
      "M11=(M*(L**2)+m*(l**2)+(mb/3)*((L**2)-L*l+(l**2)))\n",
      "M22=M*lw**2"
     ],
     "language": "python",
     "metadata": {},
     "outputs": [],
     "prompt_number": 156
    },
    {
     "cell_type": "code",
     "collapsed": false,
     "input": [
      "#Calculo de eficiencia de distancia\n",
      "def effR(vel,ang,ango):\n",
      "    h=l*(1+sin(ango))\n",
      "    return (m/M)*((vel*L)**2)*sin(2*ang)/(2*g*h)"
     ],
     "language": "python",
     "metadata": {},
     "outputs": [],
     "prompt_number": 157
    },
    {
     "cell_type": "code",
     "collapsed": false,
     "input": [
      "#C\u00e1lculo de acelreci\u00f3n a partir de ecuaciones de movimiento\n",
      "def acc(a11,a12,a21,a22,r1,r2):\n",
      "    Mv=np.matrix([[a11,a12],[a21,a22]])\n",
      "    Mr=np.array([[r1],[r2]])\n",
      "    Mvinv=np.linalg.inv(Mv)\n",
      "    return Mvinv*Mr\n"
     ],
     "language": "python",
     "metadata": {},
     "outputs": [],
     "prompt_number": 158
    },
    {
     "cell_type": "code",
     "collapsed": false,
     "input": [
      "#Esta Runge-Kutta tiene en cuenta los cambios en velocidad de th y psi simultaneamente\n",
      "def rk(dtho,tho,dpsio,psio):\n",
      "    #C\u00e1lculo de acc\n",
      "    M12=(M*l*lw*sin(psio-tho))\n",
      "    M21=(M*l*lw*sin(psio-tho))   \n",
      "\n",
      "    R1=-(dpsio**2)*(M*l*lw*cos(psio-tho))+g*cos(tho)*(m*L+(mb/2)*(L-l)-M*l)\n",
      "    R2=-M*g*lw*sin(psio)+(dtho**2)*M*l*lw*cos(psio-tho)\n",
      "    \n",
      "    \n",
      "    Na=acc(M11,M12,M21,M22,R1,R2)    \n",
      "    \n",
      "    #Primer cambio en velocidad\n",
      "    k1th=dt*Na[0,0]\n",
      "    k1psi=dt*Na[1,0]\n",
      "    \n",
      "    R1=-((dpsio+0.5*k1psi)**2)*(M*l*lw*cos(psio-tho))+g*cos(tho)*(m*L+(mb/2)*(L-l)-M*l)\n",
      "    R2=-M*g*lw*sin(psio)+((dtho+0.5*k1th)**2)*M*l*lw*cos(psio-tho)\n",
      "    \n",
      "    Na=acc(M11,M12,M21,M22,R1,R2)\n",
      "    \n",
      "    #Segundo cambio de velocidad\n",
      "    k2th=dt*Na[0,0]\n",
      "    k2psi=dt*Na[1,0]\n",
      "    \n",
      "    R1=-((dpsio+0.5*k2psi)**2)*(M*l*lw*cos(psio-tho))+g*cos(tho)*(m*L+(mb/2)*(L-l)-M*l)\n",
      "    R2=-M*g*lw*sin(psio)+((dtho+0.5*k2th)**2)*M*l*lw*cos(psio-tho)\n",
      "    \n",
      "    Na=acc(M11,M12,M21,M22,R1,R2)\n",
      "   \n",
      "    #Tercer cambio de velocidad\n",
      "    k3th=dt*Na[0,0]\n",
      "    k3psi=dt*Na[1,0]\n",
      "    \n",
      "    R1=-((dpsio+k3psi)**2)*(M*l*lw*cos(psio-tho))+g*cos(tho)*(m*L+(mb/2)*(L-l)-M*l)\n",
      "    R2=-M*g*lw*sin(psio)+((dtho+k3th)**2)*M*l*lw*cos(psio-tho)\n",
      "    \n",
      "    Na=acc(M11,M12,M21,M22,R1,R2)\n",
      "    \n",
      "    k4th=dt*Na[0,0]\n",
      "    k4psi=dt*Na[1,0]\n",
      "    \n",
      "    #Cambio\n",
      "    dpsio=dpsio+(k1psi+2*k2psi+2*k3psi+k4psi)/6\n",
      "    dtho=dtho+(k1th+2*k2th+2*k3th+k4th)/6\n",
      "    \n",
      "    \n",
      "    return dtho,dpsio\n"
     ],
     "language": "python",
     "metadata": {},
     "outputs": [],
     "prompt_number": 159
    },
    {
     "cell_type": "code",
     "collapsed": false,
     "input": [
      "#Condiciones Iniciales\n",
      "#\u00c1ngulos\n",
      "th=tho=60*pi/180\n",
      "psi=0\n",
      "\n",
      "#Derivadas\n",
      "dth=0\n",
      "dpsi=0\n",
      "\n",
      "while th>-pi/2:\n",
      "    New=rk(dth,th,dpsi,psi)\n",
      "    dth=New[0]\n",
      "    dpsi=New[1]\n",
      "    \n",
      "    th=th+dth*dt\n",
      "    psi=psi+dpsi*dt\n",
      "    \n",
      "    if th<0:\n",
      "        epsR=effR(dth,-th,tho)\n",
      "        plt.scatter(-th*180/pi,epsR)\n",
      "    plt.xlabel('Exit angle')\n",
      "    plt.ylabel('EffR')\n",
      "\n"
     ],
     "language": "python",
     "metadata": {},
     "outputs": [
      {
       "metadata": {},
       "output_type": "display_data",
       "png": "[encoded data removed]",
       "text": [
        "<matplotlib.figure.Figure at 0x3386910>"
       ]
      }
     ],
     "prompt_number": 162
    },
    {
     "cell_type": "code",
     "collapsed": false,
     "input": [],
     "language": "python",
     "metadata": {},
     "outputs": []
    }
   ],
   "metadata": {}
  }
 ]
}