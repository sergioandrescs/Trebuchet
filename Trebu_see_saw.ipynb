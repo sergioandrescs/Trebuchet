{
 "metadata": {
  "name": "",
  "signature": "sha256:15d641a5d1ee0e63fe932f5afab0ccbf84c032f25b4e2969af2da045377de09f"
 },
 "nbformat": 3,
 "nbformat_minor": 0,
 "worksheets": [
  {
   "cells": [
    {
     "cell_type": "code",
     "collapsed": false,
     "input": [
      "%pylab inline\n",
      "import numpy as np\n",
      "from __future__ import division\n",
      "#Soluci\u00f3n para Tebuchet con contrapeso fijo\n",
      "#Se considera el contrapeso sin inercia\n",
      "#La ecuaciones a solucionar se obtuvieron a partir del estudio din\u00e1mico del sistema\n",
      "\n",
      "#Constantes\n",
      "g=9.81\n",
      "\n",
      "#Masas\n",
      "M=3\n",
      "m=0.1\n",
      "mb=0.1\n",
      "\n",
      "#Brazos\n",
      "L=0.23\n",
      "l=0.07\n",
      "lw=0.01\n"
     ],
     "language": "python",
     "metadata": {},
     "outputs": [
      {
       "output_type": "stream",
       "stream": "stdout",
       "text": [
        "Populating the interactive namespace from numpy and matplotlib\n"
       ]
      }
     ],
     "prompt_number": 5
    },
    {
     "cell_type": "code",
     "collapsed": false,
     "input": [
      "##Inercia del sistema\n",
      "It=(M*l**2)+(m*L**2)+(mb/3)*((L**2)-L*l+(l**2))\n"
     ],
     "language": "python",
     "metadata": {},
     "outputs": [],
     "prompt_number": 6
    },
    {
     "cell_type": "code",
     "collapsed": false,
     "input": [
      "#Calculo de eficiencia de distancia\n",
      "def effR(vel,ang,ango):\n",
      "    h=l*(1+sin(ango))\n",
      "    return (m/M)*(vel*(L)**2)*sin(2*ang)/(2*g*h)"
     ],
     "language": "python",
     "metadata": {},
     "outputs": [],
     "prompt_number": 7
    },
    {
     "cell_type": "code",
     "collapsed": false,
     "input": [
      "#\u00c1ngulo inicial\n",
      "tho=60*pi/180\n",
      "for i in range(1,1000):\n",
      "    thf=(pi/2)*i/1000\n",
      "    wsq=g*((L+l)*(M-m)-(L-l)*(M+m+mb))*(sin(tho)+sin(thf))/It\n",
      "    \n",
      "    epsR=effR(wsq,thf,tho)\n",
      "    plt.scatter(thf*180/pi,epsR)\n",
      "plt.xlabel('Exit angle')\n",
      "plt.ylabel('EffR')"
     ],
     "language": "python",
     "metadata": {},
     "outputs": [
      {
       "metadata": {},
       "output_type": "pyout",
       "prompt_number": 12,
       "text": [
        "<matplotlib.text.Text at 0x7203490>"
       ]
      },
      {
       "metadata": {},
       "output_type": "display_data",
       "png": "[encoded data removed]",
       "text": [
        "<matplotlib.figure.Figure at 0x591ff10>"
       ]
      }
     ],
     "prompt_number": 12
    },
    {
     "cell_type": "code",
     "collapsed": false,
     "input": [],
     "language": "python",
     "metadata": {},
     "outputs": []
    }
   ],
   "metadata": {}
  }
 ]
}